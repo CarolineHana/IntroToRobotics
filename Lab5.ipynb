{
 "cells": [
  {
   "cell_type": "markdown",
   "metadata": {},
   "source": [
    "# Lab 5: RRT Hardware Implementation\n",
    "\n",
    "In this lab, you will work in teams to use your Rapidly-Exploring Random Tree (RRT) implementation from Lab 4 in practice. We have set up obstacles in the drone cage in G105 and ACEE012 (note that the obstacles are in different positions for each of the 3 netted areas). You only need to complete the lab in **one** of the three netted areas; we recommend choosing one of the netted areas and working there throughout this lab. You will measure the positions of the obstacles, field, and starting/end locations, and use the RRT code to find a trajectory through the space. There are measuring tapes in the labs that you can use to make the measurements. **Please make sure to put the measuring tapes back where you found them once you are done (so other teams can use the tapes as well).** We provide you the code to run the drone through a sequence of setpoints (in x,y) provided to it. You will be graded on your ability to autonomously navigate the drone from the starting position to the end goal location. Make sure that your video includes your drone landing within the end position. \n",
    "\n",
    "As in the previous lab, you will work as a team. **Only one** team member should submit your team's results to the gradescope. "
   ]
  },
  {
   "cell_type": "markdown",
   "metadata": {},
   "source": [
    "## Part 1: Recycling the RRT code from Lab 4. (10 Pts)"
   ]
  },
  {
   "cell_type": "markdown",
   "metadata": {},
   "source": [
    "This lab is a little more open-ended than previous labs, with the objective of encouraging you to put together concepts you learned in class. \n",
    "\n",
    "**Please use the cells below to fill with your RRT code.** Since you are working as a group, take the opportunity to compare your different solutions to the previous homework. Some implementations were cleaner or more efficient than others, so use the version you like the best! \n",
    "\n",
    "You will use the RRT code to find the trajectory from the starting position to the end goal in the drone cage. We recommend keeping the format of the code consistent with your homework for debugging ease. "
   ]
  },
  {
   "cell_type": "code",
   "execution_count": 2,
   "metadata": {},
   "outputs": [],
   "source": [
    "import numpy as np\n",
    "import matplotlib.pyplot as plt\n",
    "from typing import List, Tuple\n",
    "\n",
    "%matplotlib notebook\n",
    "\n",
    "## TODO: Fill in the RRT code here, with corresponding helper functions."
   ]
  },
  {
   "cell_type": "code",
   "execution_count": 3,
   "metadata": {},
   "outputs": [],
   "source": [
    "def conf_free(q: np.ndarray, obstacles: List[Tuple[np.ndarray, float]]) -> bool:\n",
    "    for obstacle in obstacles:\n",
    "        if ((q[0] - obstacle[0][0]) ** 2 + (q[1] - obstacle[0][1]) ** 2 <= obstacle[1] ** 2):\n",
    "            return False\n",
    "    return True\n",
    "\n",
    "def edge_free(edge: Tuple[np.ndarray, np.ndarray], obstacles: List[Tuple[np.ndarray, float]]) -> bool:\n",
    "    for obstacle in obstacles:\n",
    "        if (np.dot((edge[1] - edge[0]) / np.linalg.norm(edge[1] - edge[0]), (edge[0] - obstacle[0])) ** 2 - np.linalg.norm(edge[0] - obstacle[0]) ** 2 + obstacle[1] ** 2 >= 0):\n",
    "            return False\n",
    "    return True"
   ]
  },
  {
   "cell_type": "code",
   "execution_count": 4,
   "metadata": {},
   "outputs": [],
   "source": [
    "def random_conf(width: float, height: float) -> np.ndarray:\n",
    "    random_conf = np.random.rand(2,)\n",
    "    random_conf[0] *= width\n",
    "    random_conf[1] *= height\n",
    "    \n",
    "    return random_conf\n",
    "\n",
    "def random_free_conf(width: float, height: float, obstacles: List[Tuple[np.ndarray, float]]) -> np.ndarray:\n",
    "    random_free_conf = random_conf(width, height)\n",
    "    while not conf_free(random_free_conf, obstacles):\n",
    "        random_free_conf = random_conf(width, height)\n",
    "        \n",
    "    return random_free_conf"
   ]
  },
  {
   "cell_type": "code",
   "execution_count": 5,
   "metadata": {},
   "outputs": [],
   "source": [
    "def nearest_vertex(conf: np.ndarray, vertices: np.ndarray) -> int:\n",
    "    min_dist = float('inf')\n",
    "    min_index = 0\n",
    "    \n",
    "    for i in range(0, vertices.shape[0]):\n",
    "        if np.linalg.norm(conf - vertices[i]) < min_dist:\n",
    "            min_dist = np.linalg.norm(conf - vertices[i])\n",
    "            min_index = i\n",
    "    return min_index\n",
    "\n",
    "def extend(origin: np.ndarray, target: np.ndarray, step_size: float=0.2) -> np.ndarray:\n",
    "    if np.linalg.norm(origin - target) <= step_size:\n",
    "        return target\n",
    "    else:\n",
    "        theta = np.arcsin((target[1] - origin[1]) / np.linalg.norm(origin - target))\n",
    "        x = origin[0] + step_size * np.cos(theta)\n",
    "        y = origin[1] + step_size * np.sin(theta)\n",
    "        return np.array([x, y])"
   ]
  },
  {
   "cell_type": "code",
   "execution_count": 14,
   "metadata": {},
   "outputs": [],
   "source": [
    "def rrt(origin: np.ndarray, width: float, height: float, obstacles: List[Tuple[np.ndarray, float]],\n",
    "        trials: int=3000, step_size: float=3) -> (np.ndarray, np.ndarray):\n",
    "    num_verts = 1\n",
    "    \n",
    "    vertices = np.zeros((trials + 1, len(origin)))\n",
    "    vertices[0, :] = origin\n",
    "    \n",
    "    parents = np.zeros(trials + 1, dtype=int)\n",
    "    parents[0] = -1\n",
    "    \n",
    "    for trial in range(trials):\n",
    "        qrand = random_free_conf(width, height, obstacles)\n",
    "        qnear = vertices[nearest_vertex(qrand, vertices)]\n",
    "        qs = extend(qnear, qrand)\n",
    "        if conf_free(qs, obstacles) and edge_free((qnear, qs), obstacles):\n",
    "            parents[trial] = nearest_vertex(qrand, vertices)\n",
    "            vertices[trial, :] = qs\n",
    "        num_verts += 1\n",
    "        \n",
    "    return vertices[:num_verts, :], parents[:num_verts]\n",
    "\n",
    "def backtrack(index: int, parents: np.ndarray) -> List[int]:\n",
    "    target = index\n",
    "    path = [target]\n",
    "    while target != 0:\n",
    "        target = parents[target]\n",
    "        path.append(target)\n",
    "    return path"
   ]
  },
  {
   "cell_type": "markdown",
   "metadata": {},
   "source": [
    "## Part 2: Defining the Configuration Space. (40 Pts)"
   ]
  },
  {
   "cell_type": "markdown",
   "metadata": {},
   "source": [
    "Now that you have your RRT code, you can start setting up the code to navigate the drone through the PVC pipe forest. \n",
    "\n",
    "The drone cage has been set up such that a series of PVC pipes are suspended from the ceiling. Your goal is to start your drone in the starting position, marked with an \"X\" on the ground in masking tape. You will be graded on your ability to land the drone within the end goal location, marked with a box and the word \"END\" in masking tape. And, of course, you will need to autonomously navigate from start to end while avoiding the obstacles in the drone's path. \n",
    "\n",
    "**Now: define your configuration space.** You will need to measure the obstacles and their positions, plus whatever other information about the drone cage you think is necessary (relative positions of start/end locations, the width and height of the field, etc.). For the boundary of the space, please make sure to use the rectangular region marked by the orange tape; your drone should not leave this rectangular region as it goes from start to end. Once these measurements are collected, you will simulate your trajectory through the cage below. Sample code from the previous homework has been provided to help you plot the trajectory. Think: How will you handle absolute positions vs. relative positions to the starting location? \n",
    "\n",
    "**It's also important to remember that for the Crazyflie, the positive X direction is forward (where the nub is) and the positive Y direction is to the left when you stand behind the drone**.\n",
    "\n",
    "There is one additional caveat, however: **Remember to \"inflate\" your obstacles**, so that there is a buffer zone around each one. In practice, this will be necessary to help give the drone adequate space from each PVC pipe. We leave it up to you to assess how much to inflate the obstacles.\n",
    "\n",
    "Once you have taken these measurements, fill out the code below:"
   ]
  },
  {
   "cell_type": "code",
   "execution_count": 15,
   "metadata": {},
   "outputs": [
    {
     "name": "stdout",
     "output_type": "stream",
     "text": [
      "No path found!\n"
     ]
    }
   ],
   "source": [
    "## Sample code to define the space/obstacles and run the RRT:\n",
    "\n",
    "## TODO: Take measurements in G105 and edit this block of code correspondingly. \n",
    "\n",
    "# Width and height of the rectangular domain: \n",
    "width = 132.25  # total width of the cage [LONGER SIDE]\n",
    "height = 50.5 # total height of the cage [SHORTER SIDE]\n",
    "\n",
    "# Obstacles are represented as tuples, where the first element is an np.ndarray containing the center\n",
    "# and the second element is the radius of the obstacle. For example (np.array([3, 4]), 5).\n",
    "# This variable is a list of such tuples.\n",
    "obstacles = [(np.array([29.5, 8.5]), 1.625), (np.array([55.5, 17.5]), 1.625), \n",
    "             (np.array([61, 44.5]), 1.625), (np.array([90.5, 37.5]), 1.625), (np.array([101, 13]), 1.625)]\n",
    "\n",
    "# The goal is represented in the same way as an obstacle.\n",
    "goal = (np.array([124, 13.5]), 4.25)\n",
    "\n",
    "# The starting position of the robot.\n",
    "origin = np.array([6, 7.5])\n",
    "\n",
    "# Run the RRT to find the trajectory in this space: \n",
    "vertices, parents = rrt(origin, width, height, obstacles)\n",
    "\n",
    "# Check if path was found: \n",
    "index = nearest_vertex(goal[0], vertices)\n",
    "if np.linalg.norm(vertices[index, :] - goal[0]) < goal[1]:\n",
    "    print('Path found!')\n",
    "    path_verts = backtrack(index, parents)\n",
    "else:\n",
    "    print('No path found!')\n",
    "    path_verts = []"
   ]
  },
  {
   "cell_type": "code",
   "execution_count": 16,
   "metadata": {},
   "outputs": [
    {
     "data": {
      "text/plain": [
       "<matplotlib.collections.PathCollection at 0x7fd8859c5610>"
      ]
     },
     "execution_count": 16,
     "metadata": {},
     "output_type": "execute_result"
    },
    {
     "data": {
      "image/png": "[encoded data removed]",
      "text/plain": [
       "<Figure size 432x288 with 1 Axes>"
      ]
     },
     "metadata": {
      "needs_background": "light"
     },
     "output_type": "display_data"
    }
   ],
   "source": [
    "## Sample code to plot the trajectory: \n",
    "%matplotlib inline\n",
    "\n",
    "fig, ax = plt.subplots()\n",
    "\n",
    "ax.set_xlim([0, width])\n",
    "ax.set_ylim([0, height])\n",
    "ax.set_aspect('equal')\n",
    "\n",
    "for i in range(len(parents)):\n",
    "    if parents[i] < 0:\n",
    "        continue\n",
    "    plt.plot([vertices[i, 0], vertices[parents[i], 0]], \n",
    "             [vertices[i, 1], vertices[parents[i], 1]], c='k')\n",
    "\n",
    "for i in path_verts:\n",
    "    if parents[i] < 0:\n",
    "        continue\n",
    "    plt.plot([vertices[i, 0], vertices[parents[i], 0]], \n",
    "             [vertices[i, 1], vertices[parents[i], 1]], c='r')    \n",
    "\n",
    "for o in obstacles:\n",
    "    ax.add_artist(plt.Circle(tuple(o[0]), o[1]))\n",
    "    \n",
    "ax.add_artist(plt.Circle(tuple(goal[0]), goal[1], ec=(0.004, 0.596, 0.105), fc=(1, 1, 1)))\n",
    "\n",
    "plt.scatter([2.5], [3.5], zorder=3, c=np.array([[0.004, 0.596, 0.105]]), s=3)\n",
    "plt.scatter(vertices[path_verts, 0], vertices[path_verts, 1], c=np.array([[1, 0, 0]]), s=3, zorder=2)\n",
    "plt.scatter(vertices[1:, 0], vertices[1:, 1], c=np.array([[0, 0, 0]]), s=3)"
   ]
  },
  {
   "cell_type": "markdown",
   "metadata": {},
   "source": [
    "## Part 3: Hardware Implementation. (50 Pts)"
   ]
  },
  {
   "cell_type": "markdown",
   "metadata": {},
   "source": [
    "Now that you have a trajectory, you can begin testing with the drone. \n",
    "\n",
    "First, define your group number (as in Lab 2):"
   ]
  },
  {
   "cell_type": "code",
   "execution_count": null,
   "metadata": {},
   "outputs": [],
   "source": [
    "group_number = 11"
   ]
  },
  {
   "cell_type": "markdown",
   "metadata": {},
   "source": [
    "Here, we are providing code which takes your RRT trajectory (assuming the format of the output is consistent with that in Lab 4) and turns it into a sequence of setpoints which the drone can follow. "
   ]
  },
  {
   "cell_type": "code",
   "execution_count": null,
   "metadata": {},
   "outputs": [],
   "source": [
    "def seg_to_setpoints(start_conf: np.ndarray, end_conf: np.ndarray) -> np.ndarray:\n",
    "    # This function takes in the RRT trajectory and outputs a sequence of setpoints for the drone to follow. \n",
    "    \n",
    "    dist = np.linalg.norm(start_conf - end_conf)\n",
    "    num_samples = int(100 * dist)\n",
    "    \n",
    "    return end_conf.reshape((1, 2))\n",
    "\n",
    "traj = origin.reshape(1, 2)\n",
    "for i in range(len(path_verts) - 1):\n",
    "    traj = np.concatenate((traj, seg_to_setpoints(vertices[path_verts[i]], vertices[path_verts[i + 1]])))"
   ]
  },
  {
   "cell_type": "markdown",
   "metadata": {},
   "source": [
    "Here, we provide the code which actually tells the drone how to follow a sequence of setpoints:"
   ]
  },
  {
   "cell_type": "code",
   "execution_count": null,
   "metadata": {},
   "outputs": [],
   "source": [
    "# Code adapted from: https://github.com/bitcraze/crazyflie-lib-python/blob/master/examples/autonomousSequence.py\n",
    "\n",
    "import time\n",
    "# CrazyFlie imports: \n",
    "import cflib.crtp\n",
    "from cflib.crazyflie import Crazyflie\n",
    "from cflib.crazyflie.log import LogConfig\n",
    "from cflib.crazyflie.syncCrazyflie import SyncCrazyflie\n",
    "from cflib.crazyflie.syncLogger import SyncLogger\n",
    "\n",
    "## Some helper functions: \n",
    "## -----------------------------------------------------------------------------------------\n",
    "\n",
    "# Determine initial position: \n",
    "def wait_for_position_estimator(scf):\n",
    "    print('Waiting for estimator to find position...')\n",
    "\n",
    "    log_config = LogConfig(name='Kalman Variance', period_in_ms=500)\n",
    "    log_config.add_variable('kalman.varPX', 'float')\n",
    "    log_config.add_variable('kalman.varPY', 'float')\n",
    "    log_config.add_variable('kalman.varPZ', 'float')\n",
    "\n",
    "    var_y_history = [1000] * 10\n",
    "    var_x_history = [1000] * 10\n",
    "    var_z_history = [1000] * 10\n",
    "\n",
    "    threshold = 0.001\n",
    "    with SyncLogger(scf, log_config) as logger:\n",
    "        for log_entry in logger:\n",
    "            data = log_entry[1]\n",
    "\n",
    "            var_x_history.append(data['kalman.varPX'])\n",
    "            var_x_history.pop(0)\n",
    "            var_y_history.append(data['kalman.varPY'])\n",
    "            var_y_history.pop(0)\n",
    "            var_z_history.append(data['kalman.varPZ'])\n",
    "            var_z_history.pop(0)\n",
    "\n",
    "            min_x = min(var_x_history)\n",
    "            max_x = max(var_x_history)\n",
    "            min_y = min(var_y_history)\n",
    "            max_y = max(var_y_history)\n",
    "            min_z = min(var_z_history)\n",
    "            max_z = max(var_z_history)\n",
    "\n",
    "            print(\"{} {} {}\".\n",
    "                format(max_x - min_x, max_y - min_y, max_z - min_z))\n",
    "\n",
    "            if (max_x - min_x) < threshold and (\n",
    "                    max_y - min_y) < threshold and (\n",
    "                    max_z - min_z) < threshold:\n",
    "                break\n",
    "\n",
    "# Initialize controller: \n",
    "def set_PID_controller(cf):\n",
    "    # Set the PID Controller:\n",
    "    print('Initializing PID Controller')\n",
    "    cf.param.set_value('stabilizer.controller', '1')\n",
    "    cf.param.set_value('kalman.resetEstimation', '1')\n",
    "    time.sleep(0.1)\n",
    "    cf.param.set_value('kalman.resetEstimation', '0')\n",
    "    \n",
    "    wait_for_position_estimator(cf)\n",
    "    time.sleep(0.1)    \n",
    "    return\n",
    "\n",
    "# Ascend and hover: \n",
    "def ascend_and_hover(cf):\n",
    "    # Ascend:\n",
    "    for y in range(20):\n",
    "        cf.commander.send_hover_setpoint(0, 0, 0, y / 50)\n",
    "        time.sleep(0.1)\n",
    "    # Hover at 0.5 meters:\n",
    "    for _ in range(30):\n",
    "        cf.commander.send_hover_setpoint(0, 0, 0, 0.5)\n",
    "        time.sleep(0.1)\n",
    "    return\n",
    "\n",
    "# Follow the setpoint sequence trajectory:\n",
    "def run_sequence(scf, sequence, setpoint_delay):\n",
    "    cf = scf.cf\n",
    "    for position in sequence:\n",
    "        print(f'Setting position {(position[0], (position[1]))}')\n",
    "        for i in range(setpoint_delay):\n",
    "            cf.commander.send_position_setpoint(position[0],\n",
    "                                                (position[1]),\n",
    "                                                0.5,\n",
    "                                                0.0)\n",
    "            time.sleep(0.1)\n",
    "    \n",
    "# Hover, descend, and stop all motion:\n",
    "def hover_and_descend(cf):\n",
    "    # Hover at 0.5 meters:\n",
    "    for _ in range(30):\n",
    "        cf.commander.send_hover_setpoint(0, 0, 0, 0.5)\n",
    "        time.sleep(0.1)\n",
    "    # Descend:\n",
    "    for y in range(10):\n",
    "        cf.commander.send_hover_setpoint(0, 0, 0, (10 - y) / 25)\n",
    "        time.sleep(0.1)\n",
    "    # Stop all motion:\n",
    "    for i in range(10):\n",
    "        cf.commander.send_stop_setpoint()\n",
    "        time.sleep(0.1)\n",
    "    return\n",
    "## -----------------------------------------------------------------------------------------\n",
    "\n",
    "def run_setpoint_trajectory(group_number, sequence):  \n",
    "    # This is the main function to enable the drone to follow the trajectory. \n",
    "    \n",
    "    # User inputs:\n",
    "    #\n",
    "    # - group_number: (int) the number corresponding to the drone radio settings. \n",
    "    #\n",
    "    # - sequence: a series of point locations (float) defined as a numpy array, with each row in the following format: \n",
    "    #     [x(meters), y(meters)]\n",
    "    #   Note: the input should be given in drone coordinates (where positive x is forward, and positive y is to the left).\n",
    "    # Example: \n",
    "    # sequence = [\n",
    "    #     [[ 0.          0.        ]\n",
    "    #      [0.18134891  0.08433607]]\n",
    "    # \n",
    "\n",
    "    # Outputs: \n",
    "    # None. \n",
    "    \n",
    "    setpoint_delay = 3 # (int) Time to give the controller to reach next setpoint; in multiples of 0.1 s\n",
    "    \n",
    "    # Set the URI the Crazyflie will connect to\n",
    "    uri = f'radio://0/{group_number}/2M'\n",
    "    \n",
    "    # Initialize all the CrazyFlie drivers:\n",
    "    cflib.crtp.init_drivers(enable_debug_driver=False)\n",
    "\n",
    "    # Sync to the CrazyFlie: \n",
    "    with SyncCrazyflie(uri, cf=Crazyflie(rw_cache='./cache')) as scf:\n",
    "        # Get the Crazyflie class instance:\n",
    "        cf = scf.cf\n",
    "\n",
    "        # Initialize and ascend:\n",
    "        set_PID_controller(cf)\n",
    "        ascend_and_hover(cf)\n",
    "        # Run the waypoint sequence:\n",
    "        run_sequence(scf, sequence, setpoint_delay)\n",
    "        # Descend and stop all motion: \n",
    "        hover_and_descend(cf)\n",
    "            \n",
    "    print('Done!') \n",
    "    return"
   ]
  },
  {
   "cell_type": "markdown",
   "metadata": {},
   "source": [
    "**Putting it all together.**\n",
    "\n",
    "**The objective: Get from the starting position to the end goal location without collisions.**\n",
    "\n",
    "Use your RRT trajectory, the code provided to turn the trajectory into a sequence of setpoints, and the code provided to run the sequence of setpoints on the drone.\n",
    "\n",
    "**The caveat**: You may need to modify some of your trajectory coordinates in order to get this to work. Think about how you defined your space initially, and then put this in terms of coordinates that the drone can understand. Again, from the perspective of the drone, positive x is **forward**, and positive y is to the **left**. The drone defines its origin at the starting point. \n",
    "\n",
    "The success of your run may depend strongly on how cleanly the drone ascends from its starting location. If your drone always ascends wildly, it will be difficult for the drone to hit the setpoints you defined. Make sure your hardware is in good conditions, as a single failing motor or damaged propeller may impact ascension consistently. "
   ]
  },
  {
   "cell_type": "code",
   "execution_count": null,
   "metadata": {},
   "outputs": [],
   "source": [
    "# TODO: Implement any code necessary to convert your setpoint sequence to relative positions for the drone. "
   ]
  },
  {
   "cell_type": "code",
   "execution_count": null,
   "metadata": {},
   "outputs": [],
   "source": [
    "# Run the setpoint sequence on the drone: \n",
    "run_setpoint_trajectory(group_number, traj)"
   ]
  },
  {
   "cell_type": "code",
   "execution_count": null,
   "metadata": {},
   "outputs": [],
   "source": []
  },
  {
   "cell_type": "markdown",
   "metadata": {},
   "source": [
    "# Submission Instructions\n",
    "\n",
    "One member from each group should submit this notebook along with a video of a successful flight to \"HW5: Coding\" on gradescope."
   ]
  },
  {
   "cell_type": "code",
   "execution_count": null,
   "metadata": {},
   "outputs": [],
   "source": []
  }
 ],
 "metadata": {
  "kernelspec": {
   "display_name": "Python 3 (ipykernel)",
   "language": "python",
   "name": "python3"
  },
  "language_info": {
   "codemirror_mode": {
    "name": "ipython",
    "version": 3
   },
   "file_extension": ".py",
   "mimetype": "text/x-python",
   "name": "python",
   "nbconvert_exporter": "python",
   "pygments_lexer": "ipython3",
   "version": "3.7.11"
  }
 },
 "nbformat": 4,
 "nbformat_minor": 4
}
