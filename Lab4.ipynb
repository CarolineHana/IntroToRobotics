{
 "cells": [
  {
   "cell_type": "markdown",
   "metadata": {},
   "source": [
    "# Lab 4: Rapidly-Exploring Random Trees (60 Pts)\n",
    "\n",
    "In this homework, we will implement the Rapidly-Exploring Random Tree algorithm discussed in class. If you need a reference outside of the class notes, you can consult [Lavalle's textbook](http://planning.cs.uiuc.edu), or [his 1998 paper on the topic](http://msl.cs.illinois.edu/~lavalle/papers/Lav98c.pdf) --- both of which are very accessible. First, let's begin with some imports:"
   ]
  },
  {
   "cell_type": "code",
   "execution_count": 27,
   "metadata": {},
   "outputs": [],
   "source": [
    "import numpy as np\n",
    "import matplotlib.pyplot as plt\n",
    "from typing import List, Tuple\n",
    "\n",
    "%matplotlib notebook"
   ]
  },
  {
   "cell_type": "markdown",
   "metadata": {},
   "source": [
    "## A Note on Terminology\n",
    "\n",
    "The literature on motion planning sometimes means different things by the terms \"configuration space\" and \"free space\". In this assignment, we define the _configuration space_ to be the set of robot configurations the robot can be placed in when we ignore obstacles. This is the definition we used in class. In addition, we define the _free space_ to bet the set of configurations that do not place the robot in intersection with one or more obstacles."
   ]
  },
  {
   "cell_type": "markdown",
   "metadata": {},
   "source": [
    "## Problem 1: Checking for Free Configurations (10 Pts)\n",
    "\n",
    "In this part, we will write functions for checking if configurations and lines between configurations are in the free space. \n",
    "\n",
    "Configurations are represented as `np.ndarray` types with dimension `(2,)`. That is, they are a vector where the first entry is the $x$ coordinate and the second entry is the $y$ coordinate. Edges of the graph, which in this assignment are straight line segments, are represented as a tuple containing the two endpoints of the line segment.\n",
    "\n",
    "All the obstacles that we work with are circles. These are represented in our code as a tuple, where the first entry is an `np.ndarray` containing the center of the circle and the second entry is the radius of the circle.\n",
    "\n",
    "Fill out the following two functions in adherence to the behavior specified in their docstrings. Note that there are multiple ways to test if a line intersects a circle. You are free to use any method that you wish. These Wikipedia articles may be useful:\n",
    "- [Distance from a Point to a Line](https://en.wikipedia.org/wiki/Distance_from_a_point_to_a_line)\n",
    "- [Line-Sphere Intersection](https://en.wikipedia.org/wiki/Line–sphere_intersection)\n",
    "\n",
    "Throughout this assignment, you are free to use any of the functions in NumPy (especially its `linalg` module) to fill out the code."
   ]
  },
  {
   "cell_type": "code",
   "execution_count": 28,
   "metadata": {},
   "outputs": [],
   "source": [
    "def conf_free(q: np.ndarray, obstacles: List[Tuple[np.ndarray, float]]) -> bool:\n",
    "    \"\"\"\n",
    "    Check if a configuration is in the free space.\n",
    "    \n",
    "    This function checks if the configuration q lies outside of all the obstacles in the connfiguration space.\n",
    "    \n",
    "    @param q: An np.ndarray of shape (2,) representing a robot configuration.\n",
    "    @param obstacles: A list of obstacles. Each obstacle is a tuple of the form (center, radius) representing a circle.\n",
    "    @return: True if the configuration is in the free space, i.e. it lies outside of all the circles in `obstacles`. \n",
    "             Otherwise return False.\n",
    "    \"\"\"\n",
    "    for obstacle in obstacles:\n",
    "        if((q[0]-obstacle[0][0])**2 + (q[1]-obstacle[0][1])**2 >= obstacle[1]**2):\n",
    "            return True\n",
    "    return False\n",
    "\n",
    "def edge_free(edge: Tuple[np.ndarray, np.ndarray], obstacles: List[Tuple[np.ndarray, float]]) -> bool:\n",
    "    \"\"\"\n",
    "    Check if a graph edge is in the free space.\n",
    "    \n",
    "    This function checks if a graph edge, i.e. a line segment specified as two end points, lies entirely outside of\n",
    "    every obstacle in the configuration space.\n",
    "    \n",
    "    @param edge: A tuple containing the two segment endpoints.\n",
    "    @param obstacles: A list of obstacles as described in `config_free`.\n",
    "    @return: True if the edge is in the free space, i.e. it lies entirely outside of all the circles in `obstacles`. \n",
    "             Otherwise return False.\n",
    "    \"\"\"\n",
    "    for obstacle in obstacles:\n",
    "        if((np.dot((edge[1]-edge[0])/np.linalg.norm(edge[1]-edge[0]),edge[0]-obstacle[0]))**2 - (np.linalg.norm(edge[0]-obstacle[0]))**2 + obstacle[1]**2 >= 0):\n",
    "            return False\n",
    "    return True\n",
    "    "
   ]
  },
  {
   "cell_type": "markdown",
   "metadata": {},
   "source": [
    "## Problem 2: Sampling the Free Space (10 Pts)\n",
    "\n",
    "The next function we need is one to randomly sample the free space. Our configuration space is assumed to be a rectangle with a specified height and width. A simple way to sample the free space is to draw random points from this rectangle until we find one that is in the free space. We divided this process into two functions below, which you are to fill out as described. You should use [np.random.rand](https://docs.scipy.org/doc/numpy-1.14.0/reference/generated/numpy.random.rand.html) to sample from random numbers."
   ]
  },
  {
   "cell_type": "code",
   "execution_count": 29,
   "metadata": {},
   "outputs": [],
   "source": [
    "def random_conf(width: float, height: float) -> np.ndarray:\n",
    "    \"\"\"\n",
    "    Sample a random configuration from the configuration space.\n",
    "    \n",
    "    This function draws a uniformly random configuration from the configuration space rectangle. The configuration \n",
    "    does not necessarily have to reside in the free space.\n",
    "    \n",
    "    @param width: The configuration space width.\n",
    "    @param height: The configuration space height.\n",
    "    @return: A random configuration uniformily distributed across the configuration space.\n",
    "    \"\"\"\n",
    "    rand_config = np.zeros((2,))\n",
    "    rand = np.random.rand(2,)\n",
    "    \n",
    "    rand_config[0] = rand[0]*width\n",
    "    rand_config[1] = rand[1]*height\n",
    "    return rand_config\n",
    "    \n",
    "\n",
    "def random_free_conf(width: float, height: float, obstacles: List[Tuple[np.ndarray, float]]) -> np.ndarray:\n",
    "    \"\"\"\n",
    "    Sample a random configuration from the free space.\n",
    "    \n",
    "    This function draws a uniformly random configuration from the configuration space\n",
    "    rectangle that lies in the free space.\n",
    "    \n",
    "    @param width: The configuration space width.\n",
    "    @param height: The configuration space height.\n",
    "    @param obstacles: The list of configuration space obstacles as defined in `edge_free` and `conf_free`.\n",
    "    @return: A random configuration uniformily distributed across the configuration space.\n",
    "    \"\"\"\n",
    "    config_point = random_conf(width, height)\n",
    "    while not conf_free(config_point, obstacles):\n",
    "        config_point = random_conf(width, height)\n",
    "    return config_point"
   ]
  },
  {
   "cell_type": "markdown",
   "metadata": {},
   "source": [
    "## Problem 3: The `Extend` Function (10 Pts)\n",
    "\n",
    "We're almost ready to write our RRT function. The last thing we need are functions that find the nearest vertex to our sampled vertex and the function that creates the new extension vertex in the direction of the sampled one.\n",
    "\n",
    "We represent all the vertices in the graph as an `np.ndarray` with shape `(n, 2)` where `n` is the number of vertices. In this array, each row represents a vertex. This representation is very convient for how NumPy functions work with their arguments. Fill out the two following functions."
   ]
  },
  {
   "cell_type": "code",
   "execution_count": 34,
   "metadata": {},
   "outputs": [],
   "source": [
    "def nearest_vertex(conf: np.ndarray, vertices: np.ndarray) -> int:\n",
    "    \"\"\"\n",
    "    Finds the nearest vertex to conf in the set of vertices.\n",
    "    \n",
    "    This function searches through the set of vertices and finds the one that is closest to \n",
    "    conf using the L2 norm (Euclidean distance).\n",
    "    \n",
    "    @param conf: The configuration we are trying to find the closest vertex to.\n",
    "    @param vertices: The set of vertices represented as an np.array with shape (n, 2). Each row represents\n",
    "                     a vertex.\n",
    "    @return: The index (i.e. row of `vertices`) of the vertex that is closest to `conf`.\n",
    "    \"\"\"\n",
    "    shortest_dist = np.inf\n",
    "    vertex_index = 0\n",
    "    for i in range(len(vertices)):\n",
    "        if np.linalg.norm(conf - vertices[i]) < shortest_dist:\n",
    "            shortest_dist = np.linalg.norm(conf - vertices[i])\n",
    "            vertex_index = i\n",
    "    return vertex_index\n",
    "\n",
    "def extend(origin: np.ndarray, target: np.ndarray, step_size: float=0.2) -> np.ndarray:\n",
    "    \"\"\"\n",
    "    Extends the RRT at most a fixed distance toward the target configuration.\n",
    "    \n",
    "    Given a configuration in the RRT graph `origin`, this function returns a new configuration that takes a\n",
    "    step of at most `step_size` towards the `target` configuration. That is, if the L2 distance between `origin`\n",
    "    and `target` is less than `step_size`, return `target`. Otherwise, return the configuration on the line\n",
    "    segment between `origin` and `target` that is `step_size` distance away from `origin`.\n",
    "    \n",
    "    @param origin: A vertex in the RRT graph to be extended.\n",
    "    @param target: The vertex that is being extended towards.\n",
    "    @param step_size: The maximum allowed distance the returned vertex can be from `origin`.\n",
    "    \n",
    "    @return: A new configuration that is as close to `target` as possible without being more than\n",
    "            `step_size` away from `origin`.\n",
    "    \"\"\"\n",
    "    dist_target_origin = np.linalg.norm(target - origin)\n",
    "    if dist_target_origin < step_size:\n",
    "        return target\n",
    "    \n",
    "    unit_vector = (target - origin) / dist_target_origin\n",
    "    \n",
    "    new_point = origin+(unit_vector*step_size)\n",
    "   \n",
    "    return new_point"
   ]
  },
  {
   "cell_type": "markdown",
   "metadata": {},
   "source": [
    "## Problem 4: Putting It All Together (30 Pts)\n",
    "\n",
    "Finally, you have all the components you need to implement the RRT algorithm. The last thing that needs to be discussed is how to represent the graph that the RRT produces. Since this graph is a _tree_, a simple way is to represent the set of vertices as an `np.ndarray` of shape `(n, 2)` as discussed in the previous problem and then to maintain a list that specifies the parent vertex of each vertex. That is, to keep an `np.array` named `parents` such that if the parent of vertex `i` is `j`, then `parents[i] == j` is `True`.\n",
    "\n",
    "After we construct the graph then, we can just select any vertex in the goal region and backtrack through this array to the start configuration to find a feasible trajectory. We will assign the parent of the starting configuration to be `-1`.\n",
    "\n",
    "Fill out the main loop of the RRT algorithm and the backtracking function below."
   ]
  },
  {
   "cell_type": "code",
   "execution_count": 35,
   "metadata": {},
   "outputs": [],
   "source": [
    "def rrt(origin: np.ndarray, width: float, height: float, obstacles: List[Tuple[np.ndarray, float]],\n",
    "        trials: int=1000, step_size: float=0.2) -> (np.ndarray, np.ndarray):\n",
    "    \"\"\"\n",
    "    Explore a workspace using the RRT algorithm.\n",
    "    \n",
    "    This function builds an RRT using `trials` samples from the free space.\n",
    "    \n",
    "    @param origin: The starting configuration of the robot.\n",
    "    @param width: The width of the configuration space.\n",
    "    @param height: The height of the configuration space.\n",
    "    @param obstacles: A list of circular obstacles.\n",
    "    @param trials: The number of configurations to sample from the free space.\n",
    "    @param step_size: The step_size to pass to `extend`.\n",
    "    \n",
    "    @return: A tuple (`vertices`, `parents`), where `vertices` is an (n, 2) `np.ndarray` where each row is a configuration vertex\n",
    "             and `parents` is an array identifying the parent, i.e. `parents[i]` is the parent of the vertex in\n",
    "             the `i`th row of `vertices.\n",
    "    \"\"\"\n",
    "    num_verts = 1\n",
    "    \n",
    "    vertices = np.zeros((trials + 1, len(origin)))\n",
    "    vertices[0, :] = origin\n",
    "    \n",
    "    parents = np.zeros(trials + 1, dtype=int)\n",
    "    parents[0] = -1\n",
    "    \n",
    "    for trial in range(trials):\n",
    "        new_point = random_free_conf(width,height,obstacles)\n",
    "        nearest = nearest_vertex(new_point, vertices)\n",
    "        link = extend(vertices[nearest],new_point,step_size)\n",
    "        if edge_free((vertices[nearest],link), obstacles):\n",
    "            vertices[trial, :]= link\n",
    "            parents[trial] = nearest\n",
    "            num_verts+=1\n",
    "    \n",
    "    return vertices[:num_verts, :], parents[:num_verts]\n",
    "\n",
    "def backtrack(index: int, parents: np.ndarray) -> List[int]:\n",
    "    \"\"\"\n",
    "    Find the sequence of nodes from the origin of the graph to an index.\n",
    "    \n",
    "    This function returns a List of vertex indices going from the origin vertex to the vertex `index`.\n",
    "    \n",
    "    @param index: The vertex to find the path through the tree to.\n",
    "    @param parents: The array of vertex parents as specified in the `rrt` function.\n",
    "    \n",
    "    @return: The list of vertex indicies such that specifies a path through the graph to `index`.\n",
    "    \"\"\"\n",
    "    path = []\n",
    "    path.append(index)\n",
    "    v = index\n",
    "    while -1 not in path:\n",
    "        path.append(parents[v])\n",
    "        v = parents[v]\n",
    "    path = path[::-1]\n",
    "    \n",
    "    return path"
   ]
  },
  {
   "cell_type": "markdown",
   "metadata": {},
   "source": [
    "The next two cells run the RRT and plot the result. Feel free to adjust the `trials` and `step_size` parameters. You shouldn't modify the other code in these cells, and you should submit your notebook with a successful trajectory displayed. The goal region is shown as a circle with a green outline and center point on the plot. Obstacles are in blue."
   ]
  },
  {
   "cell_type": "code",
   "execution_count": 36,
   "metadata": {},
   "outputs": [
    {
     "name": "stdout",
     "output_type": "stream",
     "text": [
      "Path found!\n"
     ]
    }
   ],
   "source": [
    "width = 3\n",
    "height = 4\n",
    "\n",
    "obstacles = [(np.array([1, 1]), 0.25), (np.array([2, 2]), 0.25), (np.array([1, 3]), 0.3)]\n",
    "goal = (np.array([2.5, 3.5]), 0.25)\n",
    "\n",
    "origin = (0.1, 0.1)\n",
    "\n",
    "vertices, parents = rrt(origin, width, height, obstacles)\n",
    "\n",
    "index = nearest_vertex(goal[0], vertices)\n",
    "\n",
    "if np.linalg.norm(vertices[index, :] - goal[0]) < 0.25:\n",
    "    print('Path found!')\n",
    "    path_verts = backtrack(index, parents)\n",
    "else:\n",
    "    print('No path found!')\n",
    "    path_verts = []"
   ]
  },
  {
   "cell_type": "code",
   "execution_count": 37,
   "metadata": {},
   "outputs": [
    {
     "data": {
      "text/plain": [
       "<matplotlib.collections.PathCollection at 0x7ff312b8fad0>"
      ]
     },
     "execution_count": 37,
     "metadata": {},
     "output_type": "execute_result"
    },
    {
     "data": {
      "image/png": "[encoded data removed]",
      "text/plain": [
       "<Figure size 432x288 with 1 Axes>"
      ]
     },
     "metadata": {
      "needs_background": "light"
     },
     "output_type": "display_data"
    }
   ],
   "source": [
    "%matplotlib inline\n",
    "\n",
    "fig, ax = plt.subplots()\n",
    "\n",
    "ax.set_xlim([0, width])\n",
    "ax.set_ylim([0, height])\n",
    "ax.set_aspect('equal')\n",
    "\n",
    "for i in range(len(parents)):\n",
    "    if parents[i] < 0:\n",
    "        continue\n",
    "    plt.plot([vertices[i, 0], vertices[parents[i], 0]], \n",
    "             [vertices[i, 1], vertices[parents[i], 1]], c='k')\n",
    "\n",
    "for i in path_verts:\n",
    "    if parents[i] < 0:\n",
    "        continue\n",
    "    plt.plot([vertices[i, 0], vertices[parents[i], 0]], \n",
    "             [vertices[i, 1], vertices[parents[i], 1]], c='r')    \n",
    "\n",
    "for o in obstacles:\n",
    "    ax.add_artist(plt.Circle(tuple(o[0]), o[1]))\n",
    "    \n",
    "ax.add_artist(plt.Circle(tuple(goal[0]), goal[1], ec=(0.004, 0.596, 0.105), fc=(1, 1, 1)))\n",
    "\n",
    "plt.scatter([2.5], [3.5], zorder=3, c=np.array([[0.004, 0.596, 0.105]]), s=3)\n",
    "plt.scatter(vertices[path_verts, 0], vertices[path_verts, 1], c=np.array([[1, 0, 0]]), s=3, zorder=2)\n",
    "plt.scatter(vertices[1:, 0], vertices[1:, 1], c=np.array([[0, 0, 0]]), s=3)"
   ]
  },
  {
   "cell_type": "code",
   "execution_count": null,
   "metadata": {},
   "outputs": [],
   "source": []
  },
  {
   "cell_type": "code",
   "execution_count": null,
   "metadata": {},
   "outputs": [],
   "source": []
  }
 ],
 "metadata": {
  "kernelspec": {
   "display_name": "Python 3 (ipykernel)",
   "language": "python",
   "name": "python3"
  },
  "language_info": {
   "codemirror_mode": {
    "name": "ipython",
    "version": 3
   },
   "file_extension": ".py",
   "mimetype": "text/x-python",
   "name": "python",
   "nbconvert_exporter": "python",
   "pygments_lexer": "ipython3",
   "version": "3.7.11"
  }
 },
 "nbformat": 4,
 "nbformat_minor": 4
}
