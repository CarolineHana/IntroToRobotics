{
 "cells": [
  {
   "cell_type": "markdown",
   "id": "bc826c68-f32b-4dbd-919e-f3100eea8337",
   "metadata": {},
   "source": [
    "## Midterm: Question 1c Code"
   ]
  },
  {
   "cell_type": "code",
   "execution_count": 9,
   "id": "4322331c-63f0-465e-8b14-dafc0ec35820",
   "metadata": {},
   "outputs": [],
   "source": [
    "import numpy as np\n",
    "import matplotlib.pyplot as plt\n",
    "from scipy.linalg import solve_continuous_are"
   ]
  },
  {
   "cell_type": "code",
   "execution_count": 10,
   "id": "96471959-d082-478c-bfee-ae465d10c6b8",
   "metadata": {},
   "outputs": [],
   "source": [
    "# code from lab 2 LQR\n",
    "def lqr(A: np.ndarray, B: np.ndarray, Q: np.ndarray, R: np.ndarray)-> np.ndarray:\n",
    "    S = solve_continuous_are(A,B,Q,R)\n",
    "    R_inv_neg = -1*np.linalg.inv(R)\n",
    "    K = R_inv_neg@np.transpose(B)@S\n",
    "    return K"
   ]
  },
  {
   "cell_type": "code",
   "execution_count": 16,
   "id": "00dc07f3-3ed5-4880-bb0e-94154fcb069a",
   "metadata": {},
   "outputs": [
    {
     "name": "stdout",
     "output_type": "stream",
     "text": [
      "[[ 0.99227787  0.12403476  0.35694093 42.52292702]]\n"
     ]
    }
   ],
   "source": [
    "m1 = 1 \n",
    "J1 = 1 \n",
    "L0 = 1 \n",
    "l1 = 1 \n",
    "I0 = 1\n",
    "g = 9.8\n",
    "\n",
    "A = np.array([[0,0,1,0],\n",
    "             [0,0,0,1],\n",
    "             [0, 0, -(g*(m1**2)*(l1**2)*L0)/(I0*(J1+(m1*(l1**2)+J1*m1*(L0**2)))),0],\n",
    "             [0,0, 0 , ((I0 + m1*(L0**2))*m1*l1*g)/(I0*(J1+m1*(l1**2)+J1*m1*(L0**2)))]])\n",
    "\n",
    "B = np.array([[0],[0],[J1+m1*(l1**2)/(I0*(J1+m1*(l1**2)+J1*m1*(L0**2)))], [-m1*l1*L0/(I0*(J1+m1*(l1**2)+J1*m1*(L0**2)))]])\n",
    "\n",
    "Q = np.identity(n = 4) # 4x4 identity matrix\n",
    "R = np.array([[1]])\n",
    "\n",
    "\n",
    "K = lqr(A,B,Q,R)\n",
    "print(K)"
   ]
  },
  {
   "cell_type": "code",
   "execution_count": null,
   "id": "b064a843-2935-43ba-9c34-4b7f89dd7330",
   "metadata": {},
   "outputs": [],
   "source": []
  },
  {
   "cell_type": "code",
   "execution_count": null,
   "id": "c8ebb6fe-d1b1-4cf4-99ae-890e21b02672",
   "metadata": {},
   "outputs": [],
   "source": []
  }
 ],
 "metadata": {
  "kernelspec": {
   "display_name": "Python 3 (ipykernel)",
   "language": "python",
   "name": "python3"
  },
  "language_info": {
   "codemirror_mode": {
    "name": "ipython",
    "version": 3
   },
   "file_extension": ".py",
   "mimetype": "text/x-python",
   "name": "python",
   "nbconvert_exporter": "python",
   "pygments_lexer": "ipython3",
   "version": "3.7.11"
  }
 },
 "nbformat": 4,
 "nbformat_minor": 5
}
