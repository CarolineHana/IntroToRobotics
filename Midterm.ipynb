{
 "cells": [
  {
   "cell_type": "markdown",
   "metadata": {
    "tags": []
   },
   "source": [
    "# Midterm: Probabilistic Roadmaps (25 Pts)\n",
    "\n",
    "For the midterm, you will implement a variant of the RRT algorithm known as the Probabilistic Roadmap (PRM) algorithm. The difference between PRM and RRT is that PRM builds a graph that tries to capture the connectivity between all of its nodes. This is less efficient, but more fully approximates the connectivity of the configuration space. Moreover, once the PRM is built, it provides a means to get between any two configurations, assuming the PRM sampled enough points. This can be done using any graph search algorithm of your choosing.\n",
    "\n",
    "First, we will load in the functions from the RRT lab that we will reuse."
   ]
  },
  {
   "cell_type": "code",
   "execution_count": 112,
   "metadata": {
    "tags": []
   },
   "outputs": [],
   "source": [
    "import numpy as np\n",
    "import matplotlib.pyplot as plt\n",
    "from typing import List, Tuple\n",
    "\n",
    "%matplotlib notebook\n",
    "\n",
    "def conf_free(q: np.ndarray, obstacles: List[Tuple[np.ndarray, float]]) -> bool:\n",
    "    \"\"\"\n",
    "    Check if a configuration is in the free space.\n",
    "    \n",
    "    This function checks if the configuration q lies outside of all the obstacles in the connfiguration space.\n",
    "    \n",
    "    @param q: An np.ndarray of shape (2,) representing a robot configuration.\n",
    "    @param obstacles: A list of obstacles. Each obstacle is a tuple of the form (center, radius) representing a circle.\n",
    "    @return: True if the configuration is in the free space, i.e. it lies outside of all the circles in `obstacles`. \n",
    "             Otherwise return False.\n",
    "    \"\"\"\n",
    "    free = True\n",
    "    \n",
    "    for obs in obstacles:\n",
    "        free = free and np.linalg.norm(q - obs[0]) > obs[1]\n",
    "        \n",
    "    return free\n",
    "\n",
    "def edge_free(edge: Tuple[np.ndarray, np.ndarray], obstacles: List[Tuple[np.ndarray, float]]) -> bool:\n",
    "\n",
    "    \"\"\"\n",
    "\n",
    "    Check if a graph edge is in the free space.\n",
    "\n",
    "    This function checks if a graph edge, i.e. a line segment specified as two end points, lies entirely outside of\n",
    "    every obstacle in the configuration space.\n",
    "    \n",
    "    @param edge: A tuple containing the two segment endpoints.\n",
    "    @param obstacles: A list of obstacles as described in `config_free`.\n",
    "    \n",
    "    @return: True if the edge is in the free space, i.e. it lies entirely outside of all the circles in `obstacles`.\n",
    "             Otherwise return False.\n",
    "    \"\"\"\n",
    "\n",
    "    free = True\n",
    "   \n",
    "    for o in obstacles:\n",
    "        n = (edge[1] - edge[0]) / np.linalg.norm(edge[1] - edge[0])\n",
    "        p = edge[0]\n",
    "        q = o[0]\n",
    "       \n",
    "        t = (n[0] * q[0] + n[1] * q[1] - n[0] * p[0] - n[1] * p[1]) / (n[0] ** 2 + n[1] ** 2)\n",
    "       \n",
    "        if t < 0:\n",
    "            test_point = p\n",
    "        elif t > np.linalg.norm(edge[1] - edge[0]):\n",
    "            test_point = edge[1]\n",
    "        else:\n",
    "            test_point = p + t * n\n",
    "       \n",
    "        dist = np.linalg.norm(test_point - q)\n",
    "        free = free and dist > o[1]\n",
    "\n",
    "   \n",
    "    return free\n",
    "\n",
    "def random_conf(width: float, height: float) -> np.ndarray:\n",
    "    \"\"\"\n",
    "    Sample a random configuration from the configuration space.\n",
    "    \n",
    "    This function draws a uniformly random configuration from the configuration space rectangle. The configuration \n",
    "    does not necessarily have to reside in the free space.\n",
    "    \n",
    "    @param width: The configuration space width.\n",
    "    @param height: The configuration space height.\n",
    "    @return: A random configuration uniformily distributed across the configuration space.\n",
    "    \"\"\"\n",
    "    return np.random.rand(2) * np.array([width, height])\n",
    "\n",
    "def random_free_conf(width: float, height: float, obstacles: List[Tuple[np.ndarray, float]]) -> np.ndarray:\n",
    "    \"\"\"\n",
    "    Sample a random configuration from the free space.\n",
    "    \n",
    "    This function draws a uniformly random configuration from the configuration space\n",
    "    rectangle that lies in the free space.\n",
    "    \n",
    "    @param width: The configuration space width.\n",
    "    @param height: The configuration space height.\n",
    "    @param obstacles: The list of configuration space obstacles as defined in `edge_free` and `conf_free`.\n",
    "    @return: A random configuration uniformily distributed across the configuration space.\n",
    "    \"\"\"\n",
    "    while True:\n",
    "        conf = random_conf(width, height)\n",
    "        \n",
    "        if conf_free(conf, obstacles):\n",
    "            return conf\n",
    "        \n",
    "def backtrack(index: int, parents: np.ndarray) -> List[int]:\n",
    "    \"\"\"\n",
    "    Find the sequence of nodes from the origin of the graph to an index.\n",
    "    \n",
    "    This function returns a List of vertex indices going from the origin vertex to the vertex `index`.\n",
    "    \n",
    "    @param index: The vertex to find the path through the tree to.\n",
    "    @param parents: The array of vertex parents as specified in the `rrt` function.\n",
    "    \n",
    "    @return: The list of vertex indicies such that specifies a path through the graph to `index`.\n",
    "    \"\"\"\n",
    "    \n",
    "    i = index\n",
    "    vert_idx = []\n",
    "    \n",
    "    while i >= 0:\n",
    "        vert_idx.insert(0, i)\n",
    "        i = parents[i]\n",
    "    \n",
    "    return vert_idx"
   ]
  },
  {
   "cell_type": "markdown",
   "metadata": {},
   "source": [
    "## The PRM Algorithm (15 Pts)\n",
    "Now, the PRM algorithm proceeds as follows:\n",
    "\n",
    "1. Sample $N$ configurations from the free space and add them to $\\mathcal{V}$.\n",
    "\n",
    "2. For each $q \\in \\mathcal{V}$:\n",
    "\n",
    "    a. Find the $K$ closest members of $\\mathcal{V}$ to $q$. Call this $\\mathcal{V}_{near}$. Do not include $q$ itself in $\\mathcal{V}_{near}$ as this will simplify later searches.\n",
    "    \n",
    "    b. For each $q' \\in \\mathcal{V}_{near}$, if $(q, q')$ is a collision free edge, add $(q, q')$ to $\\mathcal{E}$.\n",
    " \n",
    "3. Return $(\\mathcal{V}, \\mathcal{E})$.\n",
    "    \n",
    "For our purposes, we will measure the distance between configurations using the Euclidean distance\n",
    "$$ \\mathrm{dist}(q, q') = \\sqrt{(q_1 - q'_1)^2 + (q_2 - q'_2)^2} $$\n",
    "and say an edge is collision free if the line segment between its vertices lies entirely within the free space.\n",
    "\n",
    "Implement this algorithm below."
   ]
  },
  {
   "cell_type": "code",
   "execution_count": 113,
   "metadata": {
    "tags": []
   },
   "outputs": [],
   "source": [
    "def prm(width: float, height: float, obstacles: List[Tuple[np.ndarray, float]], \n",
    "        num_closest: int=8, num_vertices: int=50) -> List[Tuple[int, int]]:\n",
    "    \"\"\"\n",
    "    Creates a probabilistic roadmap.\n",
    "    \n",
    "    @param width: The width of the configuration space.\n",
    "    @param height: The height of the configuration space.\n",
    "    @param obstacles: A list of circular obstacles.\n",
    "    @param num_closest: The number of close vertices to connect to each vertex.\n",
    "    @param num_vertices: The number of vertices to add to the PRM graph.\n",
    "    \n",
    "    @returns: A pair (vertices, edges) where vertices is an array of size num_vertices-by-2\n",
    "              with each vertex as a row and edges is a list of tuples (i, j) signifying that\n",
    "              the vertex in row i is connected to the vertex in row j.\n",
    "    \"\"\"\n",
    "    \n",
    "    vertices = np.zeros((num_vertices, 2))\n",
    "    edges = []\n",
    "\n",
    "    # add N configurations to vertices \n",
    "    for i in range(num_vertices):\n",
    "        vertices[i] = random_free_conf(width,height,obstacles)\n",
    "    \n",
    "    for i in range(len(vertices)):\n",
    "        q = vertices[i]\n",
    "        distances = np.zeros((len(vertices))) \n",
    "        for j in range(len(vertices)):\n",
    "            if i!=j:\n",
    "                current = vertices[j]\n",
    "                distances[j] = np.sqrt((q[0] - current[0])**2 + (q[1] - current[1])**2)\n",
    "        \n",
    "        sorted_distances = np.argsort(distances)\n",
    "        v_near = sorted_distances[1:num_closest+1] \n",
    "        \n",
    "        for index in v_near:\n",
    "            q_prime = vertices[index]\n",
    "            if edge_free((q,q_prime),obstacles):\n",
    "                edges.append([i,index])\n",
    "                \n",
    "    return vertices, edges"
   ]
  },
  {
   "cell_type": "markdown",
   "metadata": {},
   "source": [
    "## Graph Search (10 Pts)\n",
    "\n",
    "Next, we need a way to actually find a path through the graph between two locations of interest. In the next cell, implement breadth-first search."
   ]
  },
  {
   "cell_type": "code",
   "execution_count": 114,
   "metadata": {
    "tags": []
   },
   "outputs": [],
   "source": [
    "def bfs(start_idx: int, goal_idx: int, num_vertices: int, edges: List[Tuple[int, int]]):\n",
    "    \"\"\"\n",
    "    Breadth-First Search\n",
    "    \n",
    "    @param start_idx: The index of the vertex to start searching from\n",
    "    @param goal_idx: The index we are searching for.\n",
    "    @param num_vertices: The number of vertices in the graph (note you don't need the actual vertex values)\n",
    "    @param edges: A list of tuples (i, j) signifying an edge in the graph between vertices i, j.\n",
    "    \n",
    "    @return: A list of parent indices. That is, if the search reaches node j from node i, then parents[j] == i.\n",
    "             If no parent exists (e.g. for the first vertex or an unsearched vertex), set its parent to -1.\n",
    "    \"\"\"\n",
    "    Q = []\n",
    "    Q.append(start_idx)\n",
    "\n",
    "    parents = np.zeros(num_vertices,dtype=int)\n",
    "    parents[start_idx] = -1\n",
    "    \n",
    "    visited = []\n",
    "    visited.append(start_idx)\n",
    "    \n",
    "    while Q: \n",
    "        current = Q.pop(0) \n",
    "        # at goal index \n",
    "        if current == goal_idx: \n",
    "            visited.append(current)\n",
    "            break \n",
    "            \n",
    "        # not at goal index\n",
    "        else: \n",
    "            for edge in edges:\n",
    "                # check if node edge belongs to current node\n",
    "                if current == edge[0]: \n",
    "                    next_edge = int(edge[1])\n",
    "                    if next_edge not in visited:\n",
    "                        visited.append(next_edge)\n",
    "                        parents[next_edge] = int(current)\n",
    "                        Q.append(next_edge) \n",
    "    return parents\n",
    "            "
   ]
  },
  {
   "cell_type": "markdown",
   "metadata": {},
   "source": [
    "## Testing it out!\n",
    "\n",
    "Run the next two cells to call your algorithms and plot the result. It should produce a path from the bottom left corner to the top right corner."
   ]
  },
  {
   "cell_type": "code",
   "execution_count": 115,
   "metadata": {
    "tags": []
   },
   "outputs": [
    {
     "name": "stdout",
     "output_type": "stream",
     "text": [
      "Path found!\n"
     ]
    }
   ],
   "source": [
    "width = 3\n",
    "height = 4\n",
    "\n",
    "obstacles = [(np.array([1, 1]), 0.25), (np.array([2, 2]), 0.25), (np.array([1, 3]), 0.3)]\n",
    "goal = np.array([2.5, 3.5])\n",
    "\n",
    "origin = np.array([0.1, 0.1])\n",
    "\n",
    "vertices, edges = prm(width, height, obstacles)\n",
    "\n",
    "start_idx = ((vertices - origin.reshape((1, 2))) ** 2).sum(axis=1).argmin()\n",
    "goal_idx = ((vertices - goal.reshape((1, 2))) ** 2).sum(axis=1).argmin()\n",
    "\n",
    "parents = bfs(start_idx, goal_idx, vertices.shape[0], edges)\n",
    "\n",
    "if parents is not None:\n",
    "    print('Path found!')\n",
    "    path = backtrack(goal_idx, parents)\n",
    "else:\n",
    "    print('No path found!')\n",
    "\n",
    "\n",
    "\n"
   ]
  },
  {
   "cell_type": "code",
   "execution_count": 116,
   "metadata": {
    "tags": []
   },
   "outputs": [
    {
     "data": {
      "text/plain": [
       "<matplotlib.collections.PathCollection at 0x7fb2acaddf90>"
      ]
     },
     "execution_count": 116,
     "metadata": {},
     "output_type": "execute_result"
    },
    {
     "data": {
      "image/png": "[encoded data removed]",
      "text/plain": [
       "<Figure size 432x288 with 1 Axes>"
      ]
     },
     "metadata": {
      "needs_background": "light"
     },
     "output_type": "display_data"
    }
   ],
   "source": [
    " %matplotlib inline\n",
    "fig, ax = plt.subplots()\n",
    "\n",
    "ax.set_xlim([0, width])\n",
    "ax.set_ylim([0, height])\n",
    "ax.set_aspect('equal')\n",
    "\n",
    "for edge in edges:\n",
    "    i, j = edge\n",
    "    plt.plot([vertices[i, 0], vertices[j, 0]], \n",
    "             [vertices[i, 1], vertices[j, 1]], c='k')\n",
    "    \n",
    "for i in path:\n",
    "    if parents[i] < 0:\n",
    "        continue\n",
    "    plt.plot([vertices[i, 0], vertices[parents[i], 0]], \n",
    "             [vertices[i, 1], vertices[parents[i], 1]], c='r')\n",
    "\n",
    "for o in obstacles:\n",
    "    ax.add_artist(plt.Circle(tuple(o[0]), o[1]))\n",
    "\n",
    "plt.scatter([2.5], [3.5], zorder=3, c=np.array([[0.004, 0.596, 0.105]]), s=3)\n",
    "plt.scatter(vertices[path, 0], vertices[path, 1], c=np.array([[1, 0, 0]]), s=3, zorder=2)\n",
    "plt.scatter(vertices[1:, 0], vertices[1:, 1], c=np.array([[0, 0, 0]]), s=3)"
   ]
  },
  {
   "cell_type": "code",
   "execution_count": null,
   "metadata": {},
   "outputs": [],
   "source": []
  }
 ],
 "metadata": {
  "kernelspec": {
   "display_name": "Python 3 (ipykernel)",
   "language": "python",
   "name": "python3"
  },
  "language_info": {
   "codemirror_mode": {
    "name": "ipython",
    "version": 3
   },
   "file_extension": ".py",
   "mimetype": "text/x-python",
   "name": "python",
   "nbconvert_exporter": "python",
   "pygments_lexer": "ipython3",
   "version": "3.7.11"
  }
 },
 "nbformat": 4,
 "nbformat_minor": 4
}
